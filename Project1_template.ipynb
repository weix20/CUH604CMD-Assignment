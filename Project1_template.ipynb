{
 "cells": [
  {
   "cell_type": "markdown",
   "id": "366f8450",
   "metadata": {},
   "source": [
    "# Project 1\n",
    "\n",
    ">The student will build and train a selected neural network type for a given application, working with and critically evaluating datasets, architectures and hyperparameters."
   ]
  },
  {
   "cell_type": "markdown",
   "id": "afc2d038",
   "metadata": {},
   "source": [
    "You are given a dataset in the file `data.csv`, consisting of a set of 15 features and a label. The features and the label have binary values only (0 or 1). \n",
    "\n",
    "The task is to build a neural network that can predict the label based on the features.\n",
    "\n",
    "- Is this task best modelled as a classification or regression problem?\n",
    "- Prepare the dataset for training and testing.\n",
    "- Select a general architecture of the neural network (Feedforward, Convolutional, or Transformer).\n",
    "- Decide what hyperparameters to use (e.g., number of layers, number of neurons in each layer, activation functions, learning rate, optimizer, regularization techniques, etc.).\n",
    "- Train **three** neural networks (same architecture but different hyperparameters) on the dataset, and select the best model.\n",
    "- Evaluate the performance of the neural network on the test set."
   ]
  },
  {
   "cell_type": "markdown",
   "id": "d91568cf",
   "metadata": {},
   "source": [
    "## Marking scheme\n",
    "\n",
    "|Discussion and/or Practical work|Points|\n",
    "|---|---|\n",
    "|Classification vs Regression|/10|\n",
    "|Dataset Preparation|/20|\n",
    "|Neural Network Architecture|/10|\n",
    "|Hyperparameters (x3)|/10|\n",
    "|Training models (x3)|/30|\n",
    "|Best model selection & Final performance evaluation|/10|\n",
    "|Presentation and quality of report|/10|\n",
    "| &nbsp; |  &nbsp; |\n",
    "|**Total**|/100|"
   ]
  },
  {
   "cell_type": "markdown",
   "id": "d001b9b7",
   "metadata": {},
   "source": []
  }
 ],
 "metadata": {
  "language_info": {
   "name": "python"
  }
 },
 "nbformat": 4,
 "nbformat_minor": 5
}
