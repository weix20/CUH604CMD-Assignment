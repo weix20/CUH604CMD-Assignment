{
 "cells": [
  {
   "cell_type": "markdown",
   "id": "ba4122c2",
   "metadata": {},
   "source": [
    "# Project 2\n",
    "\n",
    ">The student will apply knowledge of NLP and generative AI to solve a real-world problem. The project will encompass the AI development lifecycle, from problem identification and data collection to model implementation and evaluation."
   ]
  },
  {
   "cell_type": "markdown",
   "id": "60281d40",
   "metadata": {},
   "source": [
    "Using [Hugging Face's Transformers library](https://huggingface.co/docs/transformers/en/index) (or any other alternatives, such as [minGPT](https://github.com/karpathy/minGPT), [nanoGPT](https://github.com/karpathy/nanoGPT), [Pythia](https://github.com/EleutherAI/pythia), or [litGPT](https://github.com/Lightning-AI/litgpt)), you are required to **select** and **fine-tune** a pre-trained language model on a dataset of your choice on an **academic topic**.\n",
    "\n",
    "The project should include the following components:\n",
    "\n",
    "1. **Problem Identification**: Clearly define the problem you are trying to solve with NLP and generative AI. (Suggestion: University tutor for \"Theory of Computation (5000CMD)\". If you choose this then ensure you give more details, such as what output you expect from the model.)\n",
    "2. **Data Collection and Preparation**: Gather a dataset that is relevant to your problem. This could be text data extracted from various sources such as previous module teaching material, books, articles, or social media. Preporocess the data to ensure it is clean and suitable for training. This may include tokenization, normalization, and splitting into training, validation, and test sets. (For example, teaching material from <https://github.coventry.ac.uk/pages/ab3735/5000CMD/>)\n",
    "3. **Model Selection**: Choose a pre-trained language model that is suitable for your problem. Consider factors such as model size, architecture, compute requirements, and performance on similar tasks.\n",
    "4. **Model Fine-tuning**: Implement the fine-tuning process using the selected model and your dataset.\n",
    "5. **Evaluation**: Evaluate the performance of your fine-tuned model using appropriate metrics. Consider human evaluation, statistical techniques and response time. \n",
    "6. **Results Analysis**: Analyze the results of your model and discuss any insights or patterns observed during the evaluation phase.\n",
    "7. **Ethical Considerations**: Discuss any ethical considerations related to your project, such as data privacy, model bias, and the potential impact of your model on users and society.\n",
    "\n",
    "Follow the \"Model Cards\" best practice recommendations as described in: [Model Cards for Model Reporting (Mitchell, 2018)](https://arxiv.org/abs/1810.03993). \n"
   ]
  },
  {
   "cell_type": "markdown",
   "id": "811a46a0",
   "metadata": {},
   "source": [
    "## Marking scheme\n",
    "\n",
    "|Discussion and/or Practical work|Points|\n",
    "|---|---|\n",
    "|Problem identification|/10|\n",
    "|Data collection and preparation|/20|\n",
    "|Model selection|/10|\n",
    "|Model finetuning|/20|\n",
    "|Evaluation & Results analysis|/20|\n",
    "|Ethical considerations|/10|\n",
    "|Presentation and quality of report|/10|\n",
    "| &nbsp; |  &nbsp; |\n",
    "|**Total**|/100|"
   ]
  },
  {
   "cell_type": "code",
   "execution_count": null,
   "id": "7b4df785",
   "metadata": {},
   "outputs": [],
   "source": []
  }
 ],
 "metadata": {
  "kernelspec": {
   "display_name": "Python 3",
   "language": "python",
   "name": "python3"
  },
  "language_info": {
   "name": "python",
   "version": "3.11.1"
  }
 },
 "nbformat": 4,
 "nbformat_minor": 5
}
